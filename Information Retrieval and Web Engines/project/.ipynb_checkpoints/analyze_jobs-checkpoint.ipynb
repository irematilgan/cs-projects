{
 "cells": [
  {
   "cell_type": "code",
   "execution_count": 164,
   "metadata": {},
   "outputs": [],
   "source": [
    "import json\n",
    "import pandas as pd\n",
    "import nltk\n",
    "import numpy as np\n",
    "from sklearn.feature_extraction.text import CountVectorizer\n",
    "from nltk.corpus import stopwords\n",
    "from nltk.tokenize import word_tokenize\n",
    "import re\n",
    "import string"
   ]
  },
  {
   "cell_type": "code",
   "execution_count": 182,
   "metadata": {},
   "outputs": [],
   "source": [
    "def createJSON(name):\n",
    "    with open(f\"jobs_{name}.json\",\"r\", encoding = \"utf-8\") as f:\n",
    "        jobs = json.load(f)\n",
    "    return jobs"
   ]
  },
  {
   "cell_type": "code",
   "execution_count": 316,
   "metadata": {},
   "outputs": [],
   "source": [
    "def cleanJobs(job_list):\n",
    "    punc_list = ['\\n', ',', '@', '?', '=', '$', '}', '(', '>', \"'\", '.', '<', ';', '\\\\', '{', '\"', '!', '[', '|', ':', '`', ']', ')', '~', '%', '_']\n",
    "    for ind in range(len(job_list)):\n",
    "        if job_list[ind]['src'] == 'elemannet':\n",
    "            job_list[ind]['position-info'] = []\n",
    "            job_list[ind]['sector'] = ''\n",
    "            job_list[ind]['general-desc'] = job_list[ind]['general-desc'].replace('\\n•', '')\n",
    "            \n",
    "        # job_list[ind][\"general-desc\"] = ''.join(ch.lower() for ch in job_list[ind][\"general-desc\"] if ch not in exclude)\n",
    "        # job_list[ind]['general-desc'].replace('\\n•', '', inplace = True)\n",
    "        try:\n",
    "            for j, desc in enumerate(job_list[ind]['general-desc']):\n",
    "                for punc in punc_list:\n",
    "                    job_list[ind]['general-desc'][j] = re.sub(r'\\'\\w+', '', job_list[ind]['general-desc'][j])\n",
    "                    job_list[ind]['general-desc'][j] = desc.replace(punc, ' ').lower()\n",
    "        except Exception as e:\n",
    "            pass\n",
    "    \n",
    "    return job_list"
   ]
  },
  {
   "cell_type": "code",
   "execution_count": 287,
   "metadata": {},
   "outputs": [],
   "source": [
    "kariyer_json = createJSON('kariyernet')"
   ]
  },
  {
   "cell_type": "code",
   "execution_count": 288,
   "metadata": {},
   "outputs": [],
   "source": [
    "for k in kariyer_json:\n",
    "    k['src'] = 'kariyernet'"
   ]
  },
  {
   "cell_type": "code",
   "execution_count": 289,
   "metadata": {},
   "outputs": [],
   "source": [
    "eleman_json = createJSON('elemannet')"
   ]
  },
  {
   "cell_type": "code",
   "execution_count": 290,
   "metadata": {},
   "outputs": [],
   "source": [
    "for k in eleman_json:\n",
    "    k['src'] = 'elemannet'\n",
    "    k['position-info'] = []\n",
    "    k['sector'] = ''\n",
    "    k['general-desc'] = k['general-desc'].replace('\\n•', '')"
   ]
  },
  {
   "cell_type": "code",
   "execution_count": 291,
   "metadata": {},
   "outputs": [
    {
     "data": {
      "text/plain": [
       "160"
      ]
     },
     "execution_count": 291,
     "metadata": {},
     "output_type": "execute_result"
    }
   ],
   "source": [
    "len(kariyer_json)"
   ]
  },
  {
   "cell_type": "code",
   "execution_count": 292,
   "metadata": {},
   "outputs": [
    {
     "data": {
      "text/plain": [
       "83"
      ]
     },
     "execution_count": 292,
     "metadata": {},
     "output_type": "execute_result"
    }
   ],
   "source": [
    "len(eleman_json)"
   ]
  },
  {
   "cell_type": "code",
   "execution_count": 293,
   "metadata": {},
   "outputs": [],
   "source": [
    "res_list = kariyer_json + eleman_json"
   ]
  },
  {
   "cell_type": "code",
   "execution_count": 294,
   "metadata": {},
   "outputs": [
    {
     "data": {
      "text/plain": [
       "243"
      ]
     },
     "execution_count": 294,
     "metadata": {},
     "output_type": "execute_result"
    }
   ],
   "source": [
    "len(res_list)"
   ]
  },
  {
   "cell_type": "code",
   "execution_count": 295,
   "metadata": {},
   "outputs": [],
   "source": [
    "with open('jobs_final.json', 'w', encoding='utf8') as json_file:\n",
    "    json.dump(res_list, json_file, ensure_ascii=False, indent = 4)"
   ]
  },
  {
   "cell_type": "code",
   "execution_count": 296,
   "metadata": {},
   "outputs": [],
   "source": [
    "jobs = createJSON('final')"
   ]
  },
  {
   "cell_type": "code",
   "execution_count": 297,
   "metadata": {},
   "outputs": [
    {
     "name": "stdout",
     "output_type": "stream",
     "text": [
      "'str' object does not support item assignment\n",
      "'str' object does not support item assignment\n",
      "'str' object does not support item assignment\n",
      "'str' object does not support item assignment\n",
      "'str' object does not support item assignment\n",
      "'str' object does not support item assignment\n",
      "'str' object does not support item assignment\n",
      "'str' object does not support item assignment\n",
      "'str' object does not support item assignment\n",
      "'str' object does not support item assignment\n",
      "'str' object does not support item assignment\n",
      "'str' object does not support item assignment\n",
      "'str' object does not support item assignment\n",
      "'str' object does not support item assignment\n",
      "'str' object does not support item assignment\n",
      "'str' object does not support item assignment\n",
      "'str' object does not support item assignment\n",
      "'str' object does not support item assignment\n",
      "'str' object does not support item assignment\n",
      "'str' object does not support item assignment\n",
      "'str' object does not support item assignment\n",
      "'str' object does not support item assignment\n",
      "'str' object does not support item assignment\n",
      "'str' object does not support item assignment\n",
      "'str' object does not support item assignment\n",
      "'str' object does not support item assignment\n",
      "'str' object does not support item assignment\n",
      "'str' object does not support item assignment\n",
      "'str' object does not support item assignment\n",
      "'str' object does not support item assignment\n",
      "'str' object does not support item assignment\n",
      "'str' object does not support item assignment\n",
      "'str' object does not support item assignment\n",
      "'str' object does not support item assignment\n",
      "'str' object does not support item assignment\n",
      "'str' object does not support item assignment\n",
      "'str' object does not support item assignment\n",
      "'str' object does not support item assignment\n",
      "'str' object does not support item assignment\n",
      "'str' object does not support item assignment\n",
      "'str' object does not support item assignment\n",
      "'str' object does not support item assignment\n",
      "'str' object does not support item assignment\n",
      "'str' object does not support item assignment\n",
      "'str' object does not support item assignment\n",
      "'str' object does not support item assignment\n",
      "'str' object does not support item assignment\n",
      "'str' object does not support item assignment\n",
      "'str' object does not support item assignment\n",
      "'str' object does not support item assignment\n",
      "'str' object does not support item assignment\n",
      "'str' object does not support item assignment\n",
      "'str' object does not support item assignment\n",
      "'str' object does not support item assignment\n",
      "'str' object does not support item assignment\n",
      "'str' object does not support item assignment\n",
      "'str' object does not support item assignment\n",
      "'str' object does not support item assignment\n",
      "'str' object does not support item assignment\n",
      "'str' object does not support item assignment\n",
      "'str' object does not support item assignment\n",
      "'str' object does not support item assignment\n",
      "'str' object does not support item assignment\n",
      "'str' object does not support item assignment\n",
      "'str' object does not support item assignment\n",
      "'str' object does not support item assignment\n",
      "'str' object does not support item assignment\n",
      "'str' object does not support item assignment\n",
      "'str' object does not support item assignment\n",
      "'str' object does not support item assignment\n",
      "'str' object does not support item assignment\n",
      "'str' object does not support item assignment\n",
      "'str' object does not support item assignment\n",
      "'str' object does not support item assignment\n",
      "'str' object does not support item assignment\n",
      "'str' object does not support item assignment\n",
      "'str' object does not support item assignment\n",
      "'str' object does not support item assignment\n",
      "'str' object does not support item assignment\n",
      "'str' object does not support item assignment\n",
      "'str' object does not support item assignment\n",
      "'str' object does not support item assignment\n",
      "'str' object does not support item assignment\n"
     ]
    }
   ],
   "source": [
    "final_json = cleanJobs(jobs)"
   ]
  },
  {
   "cell_type": "code",
   "execution_count": 298,
   "metadata": {},
   "outputs": [
    {
     "data": {
      "text/plain": [
       "160"
      ]
     },
     "execution_count": 298,
     "metadata": {},
     "output_type": "execute_result"
    }
   ],
   "source": [
    "len(kariyer_json)"
   ]
  },
  {
   "cell_type": "code",
   "execution_count": 299,
   "metadata": {},
   "outputs": [],
   "source": [
    "def analyzeJobs(jobs):\n",
    "    titles_full = jobs[0]['title']\n",
    "    titles_list = [jobs[0]['title']]\n",
    "    desc_full = jobs[0]['general-desc']\n",
    "    desc_list = [jobs[0]['general-desc']]\n",
    "    criterias_full = ' '.join(list(map(''.join, jobs[0]['candidate-criterias'])))\n",
    "    criterias_list = [jobs[0]['candidate-criterias']]\n",
    "    positions_full = ' '.join(list(map(''.join, jobs[0]['position-info'])))\n",
    "    position_list = [jobs[0]['position-info']]\n",
    "    sectors_full = ''.join(list(map(''.join, jobs[0]['sector'])))\n",
    "    sectors_list = [jobs[0]['sector']]\n",
    "    for job in jobs[1:]:\n",
    "        titles_list.append(job['title'])\n",
    "        titles_full += ''.join([' ',job['title']])\n",
    "\n",
    "        desc_list.append(job['general-desc'])\n",
    "        desc_full += \" \" + ''.join(job['general-desc'])\n",
    "\n",
    "        criterias_list.append(job['candidate-criterias'])\n",
    "        criterias_full += ' '.join(list(map(''.join, job['candidate-criterias'])))\n",
    "\n",
    "        position_list.append(job['position-info'])\n",
    "        positions_full += ' '.join(list(map(''.join, job['position-info'])))\n",
    "\n",
    "        sectors_list.append(job['sector'])\n",
    "        sectors_full += \" \" +''.join(list(map(''.join, job['sector'])))\n",
    "\n",
    "    return titles_full, titles_list, desc_full, desc_list, criterias_full, criterias_list, positions_full, position_list, sectors_full, sectors_list \n",
    "    \n",
    "    "
   ]
  },
  {
   "cell_type": "code",
   "execution_count": 300,
   "metadata": {},
   "outputs": [],
   "source": [
    "special_jobs = []\n",
    "keyw = 'iş analisti'\n",
    "for job in final_json:\n",
    "    if job['keyword'] == keyw:\n",
    "        special_jobs.append(job)"
   ]
  },
  {
   "cell_type": "code",
   "execution_count": 301,
   "metadata": {},
   "outputs": [],
   "source": [
    "titles_full, titles_list, desc_full, desc_list, criterias_full, criterias_list, positions_full, positions_list, sectors_full, sectors_list = analyzeJobs(special_jobs)"
   ]
  },
  {
   "cell_type": "code",
   "execution_count": 302,
   "metadata": {},
   "outputs": [],
   "source": [
    "def createSectorDict(sectors_list):\n",
    "    sector_dict = {}\n",
    "    for sector in sectors_list:\n",
    "        snames = sector.split(',')\n",
    "        for sname in snames:\n",
    "            if sname != '':\n",
    "                keyName = sname.replace(' ','')\n",
    "                keyName = ' '.join(re.findall('[A-ZİŞĞÜÇÖ0-9][^A-ZİŞĞÜÇÖ0-9]*',keyName))\n",
    "                \n",
    "                if keyName in sector_dict:\n",
    "                    sector_dict[keyName] +=1\n",
    "                else:\n",
    "                    sector_dict[keyName] =1\n",
    "    return {k: v for k, v in sorted(sector_dict.items(), key=lambda item: item[1], reverse = True)}"
   ]
  },
  {
   "cell_type": "code",
   "execution_count": 309,
   "metadata": {},
   "outputs": [],
   "source": [
    "def createPositionDict(position_list):\n",
    "    position_dict = {}\n",
    "    for positions in position_list:\n",
    "        for pos in positions:\n",
    "            #pnames = pos.split(',')\n",
    "            #for pname in pnames:\n",
    "            if pos != '':\n",
    "                #keyName = pos.replace(' ','')\n",
    "                keyName = pos.replace(' ',' ')\n",
    "                keyName = ''.join(re.findall('[A-ZİŞĞÜÇÖ0-9][^A-ZİŞĞÜÇÖ0-9]*',keyName))\n",
    "                if keyName.isdigit() == False:\n",
    "                    if keyName in position_dict:\n",
    "                        position_dict[keyName] +=1\n",
    "                    else:\n",
    "                        position_dict[keyName] =1\n",
    "    return {k: v for k, v in sorted(position_dict.items(), key=lambda item: item[1], reverse = True)}"
   ]
  },
  {
   "cell_type": "code",
   "execution_count": 272,
   "metadata": {},
   "outputs": [
    {
     "data": {
      "text/plain": [
       "'Deneme Bir İki'"
      ]
     },
     "execution_count": 272,
     "metadata": {},
     "output_type": "execute_result"
    }
   ],
   "source": [
    "' '.join(re.findall('[A-ZİŞĞÜÇÖ][^A-ZİŞĞÜÇÖ]*','DenemeBirİki'))"
   ]
  },
  {
   "cell_type": "code",
   "execution_count": 307,
   "metadata": {},
   "outputs": [
    {
     "data": {
      "text/plain": [
       "{'Bilişim': 6,\n",
       " 'Tekstil': 2,\n",
       " 'Otomotiv': 2,\n",
       " 'Hızlı Tüketim Malları': 2,\n",
       " 'Bankacılık': 1,\n",
       " 'Yazılım': 1,\n",
       " 'Elektronik Kart Sistemleri': 1,\n",
       " 'Elektronik Güvenlik Sistemleri': 1,\n",
       " 'Finansal Hizmetler': 1,\n",
       " 'Denetim Hizmetleri': 1,\n",
       " 'Finans- Ekonomi': 1,\n",
       " 'Güvenlik': 1,\n",
       " 'Sağlık': 1,\n",
       " 'Eğitim': 1,\n",
       " 'Hayatve Emeklilik': 1,\n",
       " 'Yiyecek Hizmetleri': 1,\n",
       " 'Kozmetik': 1,\n",
       " 'Perakende': 1,\n",
       " 'Bilişim Danışmanlığı': 1}"
      ]
     },
     "execution_count": 307,
     "metadata": {},
     "output_type": "execute_result"
    }
   ],
   "source": [
    "createSectorDict(sectors_list)"
   ]
  },
  {
   "cell_type": "code",
   "execution_count": 310,
   "metadata": {},
   "outputs": [
    {
     "data": {
      "text/plain": [
       "{'En az 3 yıl tecrübeli adaylar': 6,\n",
       " 'Üniversite(Mezun)': 6,\n",
       " 'Üniversite(Mezun), Yüksek Lisans(Öğrenci), Yüksek Lisans(Mezun), Doktora(Öğrenci), Doktora(Mezun)': 5,\n",
       " 'Yapıldı': 5,\n",
       " 'Yapıldı, Muaf': 4,\n",
       " 'İngilizce( Okuma : İyi, Yazma : İyi, Konuşma : İyi)': 4,\n",
       " 'İngilizce( Okuma : İleri, Yazma : İleri, Konuşma : İleri)': 3,\n",
       " 'Üniversite(Mezun), Yüksek Lisans(Öğrenci), Yüksek Lisans(Mezun)': 3,\n",
       " 'En az 2 yıl tecrübeli adaylar': 3,\n",
       " '2 - 10 yıl tecrübeli adaylar': 3,\n",
       " 'En az 1 yıl tecrübeli adaylar': 2,\n",
       " 'En çok 10 yıl tecrübeli adaylar': 1,\n",
       " 'Ön Lisans(Öğrenci), Ön Lisans(Mezun), Üniversite(Öğrenci), Üniversite(Mezun), Yüksek Lisans(Öğrenci), Yüksek Lisans(Mezun), Doktora(Öğrenci), Doktora(Mezun)': 1,\n",
       " 'Yapıldı, Muaf, Tecilli': 1,\n",
       " '3 - 15 yıl tecrübeli adaylar': 1,\n",
       " 'Üniversite(Mezun), Ön Lisans(Mezun)': 1,\n",
       " 'Bilgisayar Mühendisliği,Endüstri Mühendisliği,Matematik Mühendisliği,MIS - Yönetim Bilişim Sistemleri': 1,\n",
       " 'En az 4 yıl tecrübeli adaylar': 1,\n",
       " 'Üniversite(Mezun), Yüksek Lisans(Mezun)': 1,\n",
       " 'Tecrübeli ya da tecrübesiz adaylar': 1,\n",
       " 'Ön Lisans(Mezun), Üniversite(Mezun), Yüksek Lisans(Mezun), Doktora(Mezun)': 1,\n",
       " '2 - 5 yıl tecrübeli adaylar': 1,\n",
       " 'Muaf, Yapıldı': 1,\n",
       " 'Yapıldı, Muaf, Yapılmadı, Tecilli': 1,\n",
       " 'Ön Lisans(Mezun), Üniversite(Öğrenci), Üniversite(Mezun), Yüksek Lisans(Öğrenci), Yüksek Lisans(Mezun), Doktora(Öğrenci)': 1}"
      ]
     },
     "execution_count": 310,
     "metadata": {},
     "output_type": "execute_result"
    }
   ],
   "source": [
    "createPositionDict(criterias_list)"
   ]
  },
  {
   "cell_type": "code",
   "execution_count": 312,
   "metadata": {},
   "outputs": [],
   "source": [
    "def analyzeText(text):\n",
    "    reText = re.sub('[^A-Za-z0-9ıöüçşğİÖÜÇŞĞ]+', ' ', text)\n",
    "    stopWords = set(stopwords.words('turkish'))\n",
    "    words = [word.lower() for word in reText.split() if word.lower() not in stopWords]\n",
    "    tokenized_words = word_tokenize(' '.join(words))\n",
    "    cv = CountVectorizer(max_features = 5000)\n",
    "    transformed_words = cv.fit_transform(tokenized_words)\n",
    "    return {k: v for k, v in sorted(cv.vocabulary_.items(), key=lambda item: item[1], reverse = True)}"
   ]
  },
  {
   "cell_type": "code",
   "execution_count": 313,
   "metadata": {},
   "outputs": [
    {
     "data": {
      "text/plain": [
       "{'uzmanı': 9,\n",
       " 'teknolojileri': 8,\n",
       " 'specialist': 7,\n",
       " 'sorumlusu': 6,\n",
       " 'proje': 5,\n",
       " 'business': 4,\n",
       " 'bt': 3,\n",
       " 'bilgi': 2,\n",
       " 'analyst': 1,\n",
       " 'analisti': 0}"
      ]
     },
     "execution_count": 313,
     "metadata": {},
     "output_type": "execute_result"
    }
   ],
   "source": [
    "analyzeText(titles_full)"
   ]
  },
  {
   "cell_type": "code",
   "execution_count": 314,
   "metadata": {},
   "outputs": [],
   "source": [
    "desc_counter = analyzeText(descs)"
   ]
  },
  {
   "cell_type": "code",
   "execution_count": 315,
   "metadata": {},
   "outputs": [
    {
     "data": {
      "text/plain": [
       "{'şlem': 58,\n",
       " 'şişli': 57,\n",
       " 'çayırova': 56,\n",
       " 'çankaya': 55,\n",
       " 'zmir': 54,\n",
       " 'zamanlı': 53,\n",
       " 'yiyecek': 52,\n",
       " 'yazılım': 51,\n",
       " 'uzman': 50,\n",
       " 'tüketim': 49,\n",
       " 'tekstil': 48,\n",
       " 'teknolojileri': 47,\n",
       " 'teknoloji': 46,\n",
       " 'tam': 45,\n",
       " 'sürekli': 44,\n",
       " 'stanbul': 43,\n",
       " 'sistemleri': 42,\n",
       " 'sağlık': 41,\n",
       " 'sarıyer': 40,\n",
       " 'sancaktepe': 39,\n",
       " 'perakende': 38,\n",
       " 'otomotiv': 37,\n",
       " 'müşteri': 36,\n",
       " 'malları': 35,\n",
       " 'kozmetik': 34,\n",
       " 'kocaeli': 33,\n",
       " 'kağıthane': 32,\n",
       " 'kart': 31,\n",
       " 'it': 30,\n",
       " 'hızlı': 29,\n",
       " 'hizmetleri': 28,\n",
       " 'hizmetler': 27,\n",
       " 'hayat': 26,\n",
       " 'güvenlik': 25,\n",
       " 'gölbaşı': 24,\n",
       " 'geliştirme': 23,\n",
       " 'gebze': 22,\n",
       " 'ge': 21,\n",
       " 'finansal': 20,\n",
       " 'finans': 19,\n",
       " 'fatih': 18,\n",
       " 'eğitim': 17,\n",
       " 'esenler': 16,\n",
       " 'emeklilik': 15,\n",
       " 'elçiliği': 14,\n",
       " 'elektronik': 13,\n",
       " 'ekonomi': 12,\n",
       " 'denetim': 11,\n",
       " 'danışmanlığı': 10,\n",
       " 'bursabilişim': 9,\n",
       " 'bilişim': 8,\n",
       " 'bilgi': 7,\n",
       " 'belirtilmemiştir': 6,\n",
       " 'bağcılar': 5,\n",
       " 'bankacılık': 4,\n",
       " 'avr': 3,\n",
       " 'asya': 2,\n",
       " 'ar': 1,\n",
       " 'ankara': 0}"
      ]
     },
     "execution_count": 315,
     "metadata": {},
     "output_type": "execute_result"
    }
   ],
   "source": [
    "analyzeText(positions_full)"
   ]
  },
  {
   "cell_type": "markdown",
   "metadata": {},
   "source": [
    "titles_full, titles_list, desc_full, desc_list, criterias_full, criterias_list, positions_full, positions_list, sectors_full, sectors_list"
   ]
  },
  {
   "cell_type": "code",
   "execution_count": null,
   "metadata": {},
   "outputs": [],
   "source": []
  }
 ],
 "metadata": {
  "kernelspec": {
   "display_name": "Python 3",
   "language": "python",
   "name": "python3"
  },
  "language_info": {
   "codemirror_mode": {
    "name": "ipython",
    "version": 3
   },
   "file_extension": ".py",
   "mimetype": "text/x-python",
   "name": "python",
   "nbconvert_exporter": "python",
   "pygments_lexer": "ipython3",
   "version": "3.6.6"
  }
 },
 "nbformat": 4,
 "nbformat_minor": 2
}
